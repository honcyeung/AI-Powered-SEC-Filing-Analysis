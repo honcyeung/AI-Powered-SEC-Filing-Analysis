{
 "cells": [
  {
   "cell_type": "markdown",
   "id": "cebc1509",
   "metadata": {},
   "source": [
    "# Augmention part of Retrieval-Augmented Generation (RAG)"
   ]
  },
  {
   "cell_type": "code",
   "execution_count": null,
   "id": "f731bd6c",
   "metadata": {},
   "outputs": [],
   "source": [
    "def get_endpoint_resource_name_and_deployed_index_id():\n",
    "\n",
    "    try:\n",
    "        endpoints = aiplatform.MatchingEngineIndexEndpoint.list(\n",
    "            filter = f'display_name=\"{INDEX_ENDPOINT_NAME}\"'\n",
    "        )\n",
    "        endpoint_resource_name = endpoints[0].resource_name\n",
    "        endpoint = aiplatform.MatchingEngineIndexEndpoint(\n",
    "            index_endpoint_name = endpoint_resource_name\n",
    "        )\n",
    "        deployed_index_id = endpoint.deployed_indexes[0].id\n",
    "\n",
    "        return endpoint_resource_name, deployed_index_id\n",
    "    except Exception as e:\n",
    "        raise Exception(f\"An error occurred: {e}\")\n",
    "\n",
    "def find_relevant_chunks(query, num_results = 5):\n",
    "    \"\"\"\n",
    "    Takes a user's query, generates an embedding, and finds the most similar chunks in the Vertex AI Vector Search index.\n",
    "    \"\"\"\n",
    "\n",
    "    try:\n",
    "        response = client.models.embed_content(\n",
    "            model = GEMINI_EMBEDDING_MODEL,\n",
    "            contents = query,\n",
    "            config = types.EmbedContentConfig(task_type = \"RETRIEVAL_QUERY\"),\n",
    "        ).embeddings\n",
    "        embedding_vector = response[0].values\n",
    "    except Exception as e:\n",
    "        print(f\"Can't generate embeddings for the query: {e}\") \n",
    "\n",
    "        return\n",
    "\n",
    "    try:\n",
    "        endpoint_resource_name, deployed_index_id = get_endpoint_resource_name_and_deployed_index_id()\n",
    "        index_endpoint = aiplatform.MatchingEngineIndexEndpoint(index_endpoint_name = endpoint_resource_name)\n",
    "        response = index_endpoint.find_neighbors(\n",
    "            deployed_index_id = deployed_index_id,\n",
    "            queries = [embedding_vector],\n",
    "            num_neighbors = num_results\n",
    "        )\n",
    "        matched_ids = [neighbor.id for neighbor in response[0]]\n",
    "        print(f\"Found {len(matched_ids)} matching document IDs.\")\n",
    "\n",
    "        return matched_ids\n",
    "    except Exception as e:\n",
    "        print(f\"Error querying Vertex AI: {e}\")\n",
    "\n",
    "        return\n",
    "\n",
    "def retrieve_chunks_from_firestore(chunk_ids):\n",
    "    \"\"\"\n",
    "    Retrieves the full text and metadata for a list of chunk IDs from Firestore.\n",
    "    \"\"\"\n",
    "\n",
    "    retrieved_chunks = []\n",
    "    for chunk_id in chunk_ids:\n",
    "        doc = get_chunk_in_firestore(chunk_id)\n",
    "        retrieved_chunks.append(doc)\n",
    "\n",
    "    return retrieved_chunks"
   ]
  },
  {
   "cell_type": "code",
   "execution_count": null,
   "id": "4da5a81f",
   "metadata": {},
   "outputs": [],
   "source": []
  }
 ],
 "metadata": {
  "language_info": {
   "name": "python"
  }
 },
 "nbformat": 4,
 "nbformat_minor": 5
}
